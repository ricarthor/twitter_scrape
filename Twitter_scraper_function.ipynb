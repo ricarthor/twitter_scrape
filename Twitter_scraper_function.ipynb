{
 "cells": [
  {
   "cell_type": "code",
   "execution_count": 1,
   "metadata": {},
   "outputs": [],
   "source": [
    "import tweepy\n",
    "import csv\n",
    "import pandas as pd\n",
    "import os.path"
   ]
  },
  {
   "cell_type": "code",
   "execution_count": 2,
   "metadata": {},
   "outputs": [],
   "source": [
    "def twitter_scrape(nr_tweets, name_of_file, hashtag, consumer_key, consumer_secret, access_token, access_token_secret):\n",
    "    \"\"\"\n",
    "    This functions writes to a csv the tweet's content that have the \n",
    "    hashtag that you choose too. The data range is from January 1st. \n",
    "    \"\"\"\n",
    "    fname = name_of_file\n",
    "    if os.path.isfile(fname):\n",
    "        print(\"You need to change the name of the file\")\n",
    "        return\n",
    "    else:\n",
    "        print(\"You are ok to go\")\n",
    "\n",
    "    \n",
    "    consumer_key = consumer_key\n",
    "    consumer_secret = consumer_secret\n",
    "\n",
    "    access_token = access_token\n",
    "    access_token_secret = access_token_secret\n",
    "\n",
    "    auth = tweepy.OAuthHandler(consumer_key, consumer_secret)\n",
    "    auth.set_access_token(access_token, access_token_secret)\n",
    "    api = tweepy.API(auth,wait_on_rate_limit=True)\n",
    "    # Open/Create a file to append data\n",
    "    csvFile = open(name_of_file, 'a')\n",
    "    #Use csv Writer\n",
    "    csvWriter = csv.writer(csvFile)\n",
    "\n",
    "    for tweet in tweepy.Cursor(api.search,q=hashtag,count=100,\n",
    "                               lang=\"en\",\n",
    "                               since='2017-01-01').items(nr_tweets):\n",
    "        csvWriter.writerow([tweet.text.encode('utf-8')])\n",
    "    print ('You scraped it well')"
   ]
  },
  {
   "cell_type": "code",
   "execution_count": null,
   "metadata": {},
   "outputs": [],
   "source": []
  }
 ],
 "metadata": {
  "kernelspec": {
   "display_name": "Python 3",
   "language": "python",
   "name": "python3"
  },
  "language_info": {
   "codemirror_mode": {
    "name": "ipython",
    "version": 3
   },
   "file_extension": ".py",
   "mimetype": "text/x-python",
   "name": "python",
   "nbconvert_exporter": "python",
   "pygments_lexer": "ipython3",
   "version": "3.6.0"
  }
 },
 "nbformat": 4,
 "nbformat_minor": 2
}
